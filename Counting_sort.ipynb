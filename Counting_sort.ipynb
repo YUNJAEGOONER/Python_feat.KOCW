{
  "nbformat": 4,
  "nbformat_minor": 0,
  "metadata": {
    "colab": {
      "name": "Counting_sort.ipynb",
      "provenance": [],
      "collapsed_sections": [],
      "authorship_tag": "ABX9TyN3k9gvKqpOSnDvWLfM1MXB",
      "include_colab_link": true
    },
    "kernelspec": {
      "name": "python3",
      "display_name": "Python 3"
    },
    "language_info": {
      "name": "python"
    }
  },
  "cells": [
    {
      "cell_type": "markdown",
      "metadata": {
        "id": "view-in-github",
        "colab_type": "text"
      },
      "source": [
        "<a href=\"https://colab.research.google.com/github/YUNJAEGOONER/Python_feat.KOCW/blob/main/Counting_sort.ipynb\" target=\"_parent\"><img src=\"https://colab.research.google.com/assets/colab-badge.svg\" alt=\"Open In Colab\"/></a>"
      ]
    },
    {
      "cell_type": "code",
      "execution_count": 25,
      "metadata": {
        "colab": {
          "base_uri": "https://localhost:8080/"
        },
        "id": "eq1vQnZCJHQj",
        "outputId": "4d2081a9-1cc1-4043-9d8e-24e44bd14e63"
      },
      "outputs": [
        {
          "output_type": "stream",
          "name": "stdout",
          "text": [
            "[2, 0, 2, 3, 0, 1]\n",
            "[0, 0, 2, 2, 3, 3, 3, 5]\n"
          ]
        }
      ],
      "source": [
        "#counting sort\n",
        "array = [2,5,3,0,2,3,0,3]\n",
        "\n",
        "#find_max\n",
        "temp = array[0]\n",
        "for i in range(1,len(array),1):\n",
        "  if array[i] > temp:\n",
        "    temp = array[i]\n",
        "  \n",
        "#create the counting array\n",
        "c_array = []\n",
        "for i in range(0, temp + 1):\n",
        "  c_array.append(0)\n",
        "\n",
        "#count the number of the elements\n",
        "for i in range (0, len(array),1):\n",
        "  c_array[array[i]] = c_array[array[i]] + 1\n",
        "\n",
        "#print the sort result \n",
        "result = []\n",
        "for i in range(0,len(c_array),1):\n",
        "  for j in range(0,c_array[i]):\n",
        "    result.append(i)\n",
        "\n",
        "print(c_array)\n",
        "print(result)"
      ]
    }
  ]
}