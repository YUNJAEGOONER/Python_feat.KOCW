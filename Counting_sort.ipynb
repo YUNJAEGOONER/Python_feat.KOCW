{
  "cells": [
    {
      "cell_type": "markdown",
      "metadata": {
        "id": "view-in-github",
        "colab_type": "text"
      },
      "source": [
        "<a href=\"https://colab.research.google.com/github/YUNJAEGOONER/Python_feat.KOCW/blob/main/Counting_sort.ipynb\" target=\"_parent\"><img src=\"https://colab.research.google.com/assets/colab-badge.svg\" alt=\"Open In Colab\"/></a>"
      ]
    },
    {
      "cell_type": "code",
      "source": [
        " #counting sort\n",
        " #계수정렬 기본 바탕\n",
        " \n",
        "array = [2,5,3,0,2,3,0,3]\n",
        "\n",
        "#find_max\n",
        "temp = array[0]\n",
        "for i in range(1,len(array),1):\n",
        "  if array[i] > temp:\n",
        "    temp = array[i]\n",
        "  \n",
        "#create the counting array\n",
        "c_array = []\n",
        "for i in range(0, temp + 1):\n",
        "  c_array.append(0)\n",
        "\n",
        "#count the number of the elements\n",
        "for i in range (0, len(array),1):\n",
        "  c_array[array[i]] = c_array[array[i]] + 1\n",
        "\n",
        "#print the sort result \n",
        "result = []\n",
        "for i in range(0,len(c_array),1):\n",
        "  for j in range(0,c_array[i]):\n",
        "    result.append(i)\n",
        "\n",
        "print(c_array)\n",
        "print(result)"
      ],
      "metadata": {
        "id": "lCmNJ5j5VnVR",
        "outputId": "b7c5d27c-6215-4a00-9e99-abc0e97878ae",
        "colab": {
          "base_uri": "https://localhost:8080/"
        }
      },
      "execution_count": 1,
      "outputs": [
        {
          "output_type": "stream",
          "name": "stdout",
          "text": [
            "[2, 0, 2, 3, 0, 1]\n",
            "[0, 0, 2, 2, 3, 3, 3, 5]\n"
          ]
        }
      ]
    },
    {
      "cell_type": "code",
      "source": [
        "#sum_of_count의 의미 \n",
        "#ex)sum_of_count[2] = 4 => 2 이하의 수가 4(0 -2개, 2 - 2개)개가 있다.\n",
        "\n",
        "sum_of_count = c_array\n",
        "for i in range(1,len(sum_of_count),1):\n",
        "  sum_of_count[i] = sum_of_count[i] + sum_of_count[i-1]\n",
        "\n",
        "#create_empty_result_array\n",
        "#index를 이용하여 정렬하기 None으로 채워줌\n",
        "result_array = []\n",
        "for i in range(0, len(array),1):\n",
        "  result_array.append(None)\n",
        "\n",
        "for i in range(len(array)-1, -1, -1):\n",
        "  result_array[sum_of_count[array[i]]-1] = array[i]\n",
        "  sum_of_count[array[i]] = sum_of_count[array[i]] -1\n",
        "  print(result_array)\n"
      ],
      "metadata": {
        "id": "ZI7-he-_Voc4",
        "outputId": "2f23139c-6506-4870-a4dc-7cecdd17967f",
        "colab": {
          "base_uri": "https://localhost:8080/"
        }
      },
      "execution_count": 2,
      "outputs": [
        {
          "output_type": "stream",
          "name": "stdout",
          "text": [
            "[None, None, None, None, None, None, 3, None]\n",
            "[None, 0, None, None, None, None, 3, None]\n",
            "[None, 0, None, None, None, 3, 3, None]\n",
            "[None, 0, None, 2, None, 3, 3, None]\n",
            "[0, 0, None, 2, None, 3, 3, None]\n",
            "[0, 0, None, 2, 3, 3, 3, None]\n",
            "[0, 0, None, 2, 3, 3, 3, 5]\n",
            "[0, 0, 2, 2, 3, 3, 3, 5]\n"
          ]
        }
      ]
    }
  ],
  "metadata": {
    "colab": {
      "collapsed_sections": [],
      "name": "Counting_sort.ipynb",
      "provenance": [],
      "authorship_tag": "ABX9TyO724QwKzvJJBq3K+gUBoW0",
      "include_colab_link": true
    },
    "kernelspec": {
      "display_name": "Python 3",
      "name": "python3"
    },
    "language_info": {
      "name": "python"
    }
  },
  "nbformat": 4,
  "nbformat_minor": 0
}