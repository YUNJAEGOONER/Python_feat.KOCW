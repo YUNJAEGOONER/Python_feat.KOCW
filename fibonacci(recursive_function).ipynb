{
  "nbformat": 4,
  "nbformat_minor": 0,
  "metadata": {
    "colab": {
      "name": "fibonacci(recursive_function).ipynb",
      "provenance": [],
      "collapsed_sections": [],
      "authorship_tag": "ABX9TyOO+VtkcjgnFaNTCYLpVMiv",
      "include_colab_link": true
    },
    "kernelspec": {
      "name": "python3",
      "display_name": "Python 3"
    },
    "language_info": {
      "name": "python"
    }
  },
  "cells": [
    {
      "cell_type": "markdown",
      "metadata": {
        "id": "view-in-github",
        "colab_type": "text"
      },
      "source": [
        "<a href=\"https://colab.research.google.com/github/YUNJAEGOONER/Python_feat.KOCW/blob/main/fibonacci(recursive_function).ipynb\" target=\"_parent\"><img src=\"https://colab.research.google.com/assets/colab-badge.svg\" alt=\"Open In Colab\"/></a>"
      ]
    },
    {
      "cell_type": "code",
      "execution_count": 1,
      "metadata": {
        "colab": {
          "base_uri": "https://localhost:8080/"
        },
        "id": "1vahu40evTTt",
        "outputId": "284eed1c-8cb8-469c-a3d8-02d042be1057"
      },
      "outputs": [
        {
          "output_type": "stream",
          "name": "stdout",
          "text": [
            "8\n"
          ]
        }
      ],
      "source": [
        "def fibonacci(number):\n",
        "  if number == 0:\n",
        "    return 0\n",
        "  elif number == 1:\n",
        "    return 1\n",
        "  else:\n",
        "    return fibonacci(number-1) + fibonacci(number-2)\n",
        "\n",
        "result = fibonacci(6)\n",
        "print(result)"
      ]
    }
  ]
}