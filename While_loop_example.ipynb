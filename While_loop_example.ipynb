{
  "nbformat": 4,
  "nbformat_minor": 0,
  "metadata": {
    "colab": {
      "name": "While_loop_example.ipynb",
      "provenance": [],
      "authorship_tag": "ABX9TyNohUoNZzjBpPGMDot75z71",
      "include_colab_link": true
    },
    "kernelspec": {
      "name": "python3",
      "display_name": "Python 3"
    },
    "language_info": {
      "name": "python"
    }
  },
  "cells": [
    {
      "cell_type": "markdown",
      "metadata": {
        "id": "view-in-github",
        "colab_type": "text"
      },
      "source": [
        "<a href=\"https://colab.research.google.com/github/YUNJAEGOONER/Python_feat.KOCW/blob/main/While_loop_example.ipynb\" target=\"_parent\"><img src=\"https://colab.research.google.com/assets/colab-badge.svg\" alt=\"Open In Colab\"/></a>"
      ]
    },
    {
      "cell_type": "code",
      "execution_count": 1,
      "metadata": {
        "colab": {
          "base_uri": "https://localhost:8080/"
        },
        "id": "P0ZJzhCm1Xbs",
        "outputId": "c20eef48-cdae-4c64-cbde-d2614214183d"
      },
      "outputs": [
        {
          "output_type": "stream",
          "name": "stdout",
          "text": [
            "practice_while_loop\n",
            "0\n",
            "1\n",
            "2\n",
            "3\n",
            "4\n",
            "i!=5 (i가 5가 아닐 때 실행 (i가 5가 되면 반복문을 멈춰라))\n"
          ]
        }
      ],
      "source": [
        "print(\"practice_while_loop\")\n",
        "i = 0\n",
        "while(i != 5):\n",
        "  print(i)\n",
        "  i = i + 1\n",
        "print(\"i!=5 (i가 5가 아닐 때 실행 (i가 5가 되면 반복문을 멈춰라))\")"
      ]
    }
  ]
}