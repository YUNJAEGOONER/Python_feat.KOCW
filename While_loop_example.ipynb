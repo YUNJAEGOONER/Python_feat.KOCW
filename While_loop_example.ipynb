{
  "nbformat": 4,
  "nbformat_minor": 0,
  "metadata": {
    "colab": {
      "name": "While_loop_example.ipynb",
      "provenance": [],
      "collapsed_sections": [],
      "authorship_tag": "ABX9TyOv7VUSUno9DCXGUzBjuFr6",
      "include_colab_link": true
    },
    "kernelspec": {
      "name": "python3",
      "display_name": "Python 3"
    },
    "language_info": {
      "name": "python"
    }
  },
  "cells": [
    {
      "cell_type": "markdown",
      "metadata": {
        "id": "view-in-github",
        "colab_type": "text"
      },
      "source": [
        "<a href=\"https://colab.research.google.com/github/YUNJAEGOONER/Python_feat.KOCW/blob/main/While_loop_example.ipynb\" target=\"_parent\"><img src=\"https://colab.research.google.com/assets/colab-badge.svg\" alt=\"Open In Colab\"/></a>"
      ]
    },
    {
      "cell_type": "code",
      "execution_count": 4,
      "metadata": {
        "colab": {
          "base_uri": "https://localhost:8080/"
        },
        "id": "P0ZJzhCm1Xbs",
        "outputId": "7c0b9d7d-613e-4231-8ea0-12d3f82d40ee"
      },
      "outputs": [
        {
          "output_type": "stream",
          "name": "stdout",
          "text": [
            "practice_while_loop\n",
            "0\n",
            "1\n",
            "2\n",
            "3\n",
            "4\n",
            "i!=5 (i가 5가 아닐 때 실행 (i가 5가 되면 반복문을 멈춰라))\n"
          ]
        }
      ],
      "source": [
        "print(\"practice_while_loop\")\n",
        "i = 0\n",
        "while(i != 5):\n",
        "  print(i)\n",
        "  i = i + 1\n",
        "print(\"i!=5 (i가 5가 아닐 때 실행 (i가 5가 되면 반복문을 멈춰라))\")"
      ]
    },
    {
      "cell_type": "code",
      "source": [
        "def while_example(array):\n",
        "  index = 0\n",
        "  while index < len(array):\n",
        "    print(array[index])\n",
        "    index = index + 1\n",
        "  print(\"while은 무한루프 조심\")\n",
        "\n",
        "def for_example(array):\n",
        "  for i in range(0,len(array)):\n",
        "    print(array[i])\n",
        "\n",
        "array = [1,2,3,4,5]\n",
        "\n",
        "loop_while = while_example(array)\n",
        "loop_for = for_example(array)"
      ],
      "metadata": {
        "id": "BSSV4tNoAmCA",
        "outputId": "457a3b02-11a4-4da8-e101-64a6047e00f1",
        "colab": {
          "base_uri": "https://localhost:8080/"
        }
      },
      "execution_count": 5,
      "outputs": [
        {
          "output_type": "stream",
          "name": "stdout",
          "text": [
            "1\n",
            "2\n",
            "3\n",
            "4\n",
            "5\n",
            "while은 무한루프 조심\n",
            "1\n",
            "2\n",
            "3\n",
            "4\n",
            "5\n"
          ]
        }
      ]
    }
  ]
}