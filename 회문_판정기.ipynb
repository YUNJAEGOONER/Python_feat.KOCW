{
  "nbformat": 4,
  "nbformat_minor": 0,
  "metadata": {
    "colab": {
      "name": "회문 판정기.ipynb",
      "provenance": [],
      "collapsed_sections": [],
      "authorship_tag": "ABX9TyP4cKlUi4eLkUcGiKJH0g/v",
      "include_colab_link": true
    },
    "kernelspec": {
      "name": "python3",
      "display_name": "Python 3"
    },
    "language_info": {
      "name": "python"
    }
  },
  "cells": [
    {
      "cell_type": "markdown",
      "metadata": {
        "id": "view-in-github",
        "colab_type": "text"
      },
      "source": [
        "<a href=\"https://colab.research.google.com/github/YUNJAEGOONER/Python_feat.KOCW/blob/main/%ED%9A%8C%EB%AC%B8_%ED%8C%90%EC%A0%95%EA%B8%B0.ipynb\" target=\"_parent\"><img src=\"https://colab.research.google.com/assets/colab-badge.svg\" alt=\"Open In Colab\"/></a>"
      ]
    },
    {
      "cell_type": "code",
      "metadata": {
        "colab": {
          "base_uri": "https://localhost:8080/"
        },
        "id": "V3xnHmOGD7FY",
        "outputId": "782b1d92-a586-424b-ec76-75ed6abf6146"
      },
      "source": [
        "print(\"회문 판정기 \")\n",
        "string = input()\n",
        "count = 0\n",
        "if len(string) % 2 == 1:\n",
        "  for i in range(0, len(string)//2 ):\n",
        "    if string[i] == string [len(string)-1-i]:\n",
        "      count = count + 1\n",
        "      if count == len(string)//2 - 1:\n",
        "        print(string+\"은 회문입니다\")\n",
        "    else:\n",
        "      print(\"회문이 아닙니다.\")\n",
        "      break\n",
        "else:\n",
        "  for i in range(0, len(string)//2 ):\n",
        "    if string[i] == string [len(string)-1-i]:\n",
        "      count = count + 1\n",
        "      if count == len(string)//2 :\n",
        "        print(string+\"은 회문입니다\")\n",
        "    else:\n",
        "      print(\"회문이 아닙니다.\")\n",
        "      break\n",
        "\n",
        "# Stack과 Queue를 활용한 회문판정\n",
        "# 회문 = >  앞에서부터 읽어도 , 뒤에서부터 읽어도 동일하게 읽을 수 있는 단어\n",
        "# 앞에서 부터 읽기 (삭제시 맨   앞 부터 삭제하는 Queue를 활용 (FiFo) )\n",
        "# 뒤에서 부터 읽기 (삭제시 맨 뒤 부터 삭제하는 Stack을 활용(LiFo) )"
      ],
      "execution_count": 1,
      "outputs": [
        {
          "output_type": "stream",
          "name": "stdout",
          "text": [
            "회문 판정기 \n",
            "LEVEL\n",
            "LEVEL은 회문입니다\n"
          ]
        }
      ]
    }
  ]
}