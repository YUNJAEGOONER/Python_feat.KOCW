{
  "nbformat": 4,
  "nbformat_minor": 0,
  "metadata": {
    "colab": {
      "name": "JOSEPHUS GAME.ipynb",
      "provenance": [],
      "collapsed_sections": [],
      "authorship_tag": "ABX9TyMEehGFWVz+/WZN78dQBokk",
      "include_colab_link": true
    },
    "kernelspec": {
      "name": "python3",
      "display_name": "Python 3"
    },
    "language_info": {
      "name": "python"
    }
  },
  "cells": [
    {
      "cell_type": "markdown",
      "metadata": {
        "id": "view-in-github",
        "colab_type": "text"
      },
      "source": [
        "<a href=\"https://colab.research.google.com/github/YUNJAEGOONER/Python_feat.KOCW/blob/main/JOSEPHUS_GAME.ipynb\" target=\"_parent\"><img src=\"https://colab.research.google.com/assets/colab-badge.svg\" alt=\"Open In Colab\"/></a>"
      ]
    },
    {
      "cell_type": "code",
      "metadata": {
        "id": "XA6yJKZSEZc9",
        "colab": {
          "base_uri": "https://localhost:8080/"
        },
        "outputId": "441da241-78af-4d6d-f7d7-5c918accbe9a"
      },
      "source": [
        "n=int(input(\"welcome to JOSEPHUS GAME\\n\"))\n",
        "k=int(input()) \n",
        "array = [] \n",
        "\n",
        "#사람들을 동그랗세 모여 앉힘\n",
        "for i in range(0,n):\n",
        "  array.append(i+1)\n",
        "\n",
        "while (len(array)!= 1):\n",
        "  for j in range(0,k):\n",
        "    if j == k -1:\n",
        "      del array[0]\n",
        "    else:\n",
        "      temp = array[0]\n",
        "      del array[0]\n",
        "      #delete the first element (dequeue)\n",
        "      #dequeue는 항상 first 에서 일어난다\n",
        "      array.append(temp)\n",
        "      #add the element to the back of the array (inqueue)\n",
        "      #inqueue는 항상 rear에서 일어난다\n",
        "\n",
        "print(array)"
      ],
      "execution_count": 3,
      "outputs": [
        {
          "output_type": "stream",
          "name": "stdout",
          "text": [
            "welcome to JOSEPHUS GAME\n",
            "41\n",
            "2\n",
            "[19]\n"
          ]
        }
      ]
    }
  ]
}