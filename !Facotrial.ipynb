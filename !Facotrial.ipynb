{
  "nbformat": 4,
  "nbformat_minor": 0,
  "metadata": {
    "colab": {
      "name": "!Facotrial.ipynb",
      "provenance": [],
      "authorship_tag": "ABX9TyOJB4rrbemx3sdkVFBsAiiT",
      "include_colab_link": true
    },
    "kernelspec": {
      "name": "python3",
      "display_name": "Python 3"
    },
    "language_info": {
      "name": "python"
    }
  },
  "cells": [
    {
      "cell_type": "markdown",
      "metadata": {
        "id": "view-in-github",
        "colab_type": "text"
      },
      "source": [
        "<a href=\"https://colab.research.google.com/github/YUNJAEGOONER/Python_feat.KOCW/blob/main/!Facotrial.ipynb\" target=\"_parent\"><img src=\"https://colab.research.google.com/assets/colab-badge.svg\" alt=\"Open In Colab\"/></a>"
      ]
    },
    {
      "cell_type": "code",
      "execution_count": 1,
      "metadata": {
        "colab": {
          "base_uri": "https://localhost:8080/"
        },
        "id": "gaMyzq46jssi",
        "outputId": "508eef6d-a0f8-49ff-8ade-11fd2ca1b6a8"
      },
      "outputs": [
        {
          "output_type": "stream",
          "name": "stdout",
          "text": [
            "factorial_for_loop\n",
            "120\n"
          ]
        }
      ],
      "source": [
        "print(\"factorial_for_loop\")\n",
        "\n",
        "def factorial_for_loop(number):\n",
        "  for i in range (number , 0 , -1):\n",
        "    if i == number:\n",
        "      result = i\n",
        "    else:\n",
        "      result = result * i\n",
        "  return result\n",
        "\n",
        "factorial = factorial_for_loop(5)\n",
        "print(factorial)"
      ]
    },
    {
      "cell_type": "code",
      "source": [
        "print(\"practice_recursive_function\")\n",
        "\n",
        "def recursive_factorial(number):\n",
        "  if number == 1:\n",
        "    return 1\n",
        "  else:\n",
        "    return number * recursive_factorial(number-1)\n",
        "\n",
        "factorial = recursive_factorial(5)\n",
        "print(factorial)"
      ],
      "metadata": {
        "colab": {
          "base_uri": "https://localhost:8080/"
        },
        "id": "r3rrnpJHj5KC",
        "outputId": "4b980f10-533e-4eec-eaad-0f5ab2a60e28"
      },
      "execution_count": 2,
      "outputs": [
        {
          "output_type": "stream",
          "name": "stdout",
          "text": [
            "practice_recursive_function\n",
            "120\n"
          ]
        }
      ]
    }
  ]
}